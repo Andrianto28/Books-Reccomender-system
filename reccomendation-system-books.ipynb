{
 "cells": [
  {
   "cell_type": "code",
   "execution_count": 1,
   "metadata": {
    "_cell_guid": "b1076dfc-b9ad-4769-8c92-a6c4dae69d19",
    "_uuid": "8f2839f25d086af736a60e9eeb907d3b93b6e0e5",
    "execution": {
     "iopub.execute_input": "2021-01-09T14:41:15.821943Z",
     "iopub.status.busy": "2021-01-09T14:41:15.821281Z",
     "iopub.status.idle": "2021-01-09T14:41:16.659444Z",
     "shell.execute_reply": "2021-01-09T14:41:16.658624Z"
    },
    "papermill": {
     "duration": 0.852918,
     "end_time": "2021-01-09T14:41:16.659546",
     "exception": false,
     "start_time": "2021-01-09T14:41:15.806628",
     "status": "completed"
    },
    "tags": []
   },
   "outputs": [
    {
     "name": "stdout",
     "output_type": "stream",
     "text": [
      "/kaggle/input/book-recommendation-dataset/Ratings.csv\n",
      "/kaggle/input/book-recommendation-dataset/Users.csv\n",
      "/kaggle/input/book-recommendation-dataset/Books.csv\n"
     ]
    }
   ],
   "source": [
    "\n",
    "import numpy as np # linear algebra\n",
    "import pandas as pd # data processing, CSV file I/O (e.g. pd.read_csv)\n",
    "import matplotlib.pyplot as plt\n",
    "import seaborn as sns\n",
    "\n",
    "import os\n",
    "for dirname, _, filenames in os.walk('/kaggle/input'):\n",
    "    for filename in filenames:\n",
    "        print(os.path.join(dirname, filename))\n",
    "\n"
   ]
  },
  {
   "cell_type": "code",
   "execution_count": 2,
   "metadata": {
    "_cell_guid": "79c7e3d0-c299-4dcb-8224-4455121ee9b0",
    "_uuid": "d629ff2d2480ee46fbb7e2d37f6b5fab8052498a",
    "execution": {
     "iopub.execute_input": "2021-01-09T14:41:16.684979Z",
     "iopub.status.busy": "2021-01-09T14:41:16.684438Z",
     "iopub.status.idle": "2021-01-09T14:41:20.298697Z",
     "shell.execute_reply": "2021-01-09T14:41:20.298041Z"
    },
    "papermill": {
     "duration": 3.630998,
     "end_time": "2021-01-09T14:41:20.298837",
     "exception": false,
     "start_time": "2021-01-09T14:41:16.667839",
     "status": "completed"
    },
    "tags": []
   },
   "outputs": [
    {
     "name": "stderr",
     "output_type": "stream",
     "text": [
      "/opt/conda/lib/python3.7/site-packages/IPython/core/interactiveshell.py:3063: DtypeWarning: Columns (3) have mixed types.Specify dtype option on import or set low_memory=False.\n",
      "  interactivity=interactivity, compiler=compiler, result=result)\n"
     ]
    },
    {
     "name": "stdout",
     "output_type": "stream",
     "text": [
      "(79319, 10)\n"
     ]
    }
   ],
   "source": [
    "df_all = pd.read_csv(\"/kaggle/input/book-recommendation-dataset/Books.csv\")\n",
    "book_rating_all = pd.read_csv(\"/kaggle/input/book-recommendation-dataset/Ratings.csv\")\n",
    "book_users_all = pd.read_csv(\"/kaggle/input/book-recommendation-dataset/Users.csv\")\n",
    "df = df_all.iloc[:100000, :]\n",
    "book_rating = book_rating_all.iloc[:100000, :]\n",
    "book_users = book_users_all.iloc[:100000, :]\n",
    "book_ratings = book_rating.iloc[:, 0:3]\n",
    "book_ratings.rename(columns={\"User-ID\" : \"user_id\", \"Book-Rating\" : \"book_rating\"}, inplace=True)\n",
    "df = pd.merge(df, book_ratings, on=\"ISBN\")\n",
    "df = df.reindex(columns=[\"ISBN\", \"user_id\", \"Book-Title\", \"Book-Author\", \"Year-Of-Publication\", \"Publisher\", \"book_rating\", \"Image-URL-S\", \"Image-URL-M\", \"Image-URL-L\"])\n",
    "print (df.shape)"
   ]
  },
  {
   "cell_type": "code",
   "execution_count": 3,
   "metadata": {
    "execution": {
     "iopub.execute_input": "2021-01-09T14:41:20.326061Z",
     "iopub.status.busy": "2021-01-09T14:41:20.322436Z",
     "iopub.status.idle": "2021-01-09T14:42:26.515849Z",
     "shell.execute_reply": "2021-01-09T14:42:26.516313Z"
    },
    "papermill": {
     "duration": 66.207899,
     "end_time": "2021-01-09T14:42:26.516450",
     "exception": false,
     "start_time": "2021-01-09T14:41:20.308551",
     "status": "completed"
    },
    "tags": []
   },
   "outputs": [
    {
     "data": {
      "text/html": [
       "<div>\n",
       "<style scoped>\n",
       "    .dataframe tbody tr th:only-of-type {\n",
       "        vertical-align: middle;\n",
       "    }\n",
       "\n",
       "    .dataframe tbody tr th {\n",
       "        vertical-align: top;\n",
       "    }\n",
       "\n",
       "    .dataframe thead th {\n",
       "        text-align: right;\n",
       "    }\n",
       "</style>\n",
       "<table border=\"1\" class=\"dataframe\">\n",
       "  <thead>\n",
       "    <tr style=\"text-align: right;\">\n",
       "      <th></th>\n",
       "      <th>count</th>\n",
       "      <th>mean</th>\n",
       "      <th>std</th>\n",
       "      <th>min</th>\n",
       "      <th>25%</th>\n",
       "      <th>50%</th>\n",
       "      <th>75%</th>\n",
       "      <th>max</th>\n",
       "    </tr>\n",
       "    <tr>\n",
       "      <th>Book-Title</th>\n",
       "      <th></th>\n",
       "      <th></th>\n",
       "      <th></th>\n",
       "      <th></th>\n",
       "      <th></th>\n",
       "      <th></th>\n",
       "      <th></th>\n",
       "      <th></th>\n",
       "    </tr>\n",
       "  </thead>\n",
       "  <tbody>\n",
       "    <tr>\n",
       "      <th>Lake Powell: A Different Light</th>\n",
       "      <td>1.0</td>\n",
       "      <td>10.0</td>\n",
       "      <td>NaN</td>\n",
       "      <td>10.0</td>\n",
       "      <td>10.0</td>\n",
       "      <td>10.0</td>\n",
       "      <td>10.0</td>\n",
       "      <td>10.0</td>\n",
       "    </tr>\n",
       "    <tr>\n",
       "      <th>Cardcaptor Sakura: Master of the Clow (Cardcaptor Sakura, 3)</th>\n",
       "      <td>1.0</td>\n",
       "      <td>10.0</td>\n",
       "      <td>NaN</td>\n",
       "      <td>10.0</td>\n",
       "      <td>10.0</td>\n",
       "      <td>10.0</td>\n",
       "      <td>10.0</td>\n",
       "      <td>10.0</td>\n",
       "    </tr>\n",
       "    <tr>\n",
       "      <th>Cardcaptor Sakura: Master of the Clow, Book 4</th>\n",
       "      <td>1.0</td>\n",
       "      <td>10.0</td>\n",
       "      <td>NaN</td>\n",
       "      <td>10.0</td>\n",
       "      <td>10.0</td>\n",
       "      <td>10.0</td>\n",
       "      <td>10.0</td>\n",
       "      <td>10.0</td>\n",
       "    </tr>\n",
       "    <tr>\n",
       "      <th>Cardcaptor Sakura: Master of the Clow, Book 5</th>\n",
       "      <td>1.0</td>\n",
       "      <td>10.0</td>\n",
       "      <td>NaN</td>\n",
       "      <td>10.0</td>\n",
       "      <td>10.0</td>\n",
       "      <td>10.0</td>\n",
       "      <td>10.0</td>\n",
       "      <td>10.0</td>\n",
       "    </tr>\n",
       "    <tr>\n",
       "      <th>Uncle John's All-Purpose Extra-Strength Bathroom Reader (Uncle John's Bathroom Reader #13)</th>\n",
       "      <td>1.0</td>\n",
       "      <td>10.0</td>\n",
       "      <td>NaN</td>\n",
       "      <td>10.0</td>\n",
       "      <td>10.0</td>\n",
       "      <td>10.0</td>\n",
       "      <td>10.0</td>\n",
       "      <td>10.0</td>\n",
       "    </tr>\n",
       "    <tr>\n",
       "      <th>Life in a Rapidly Changing World (New Economy Self-Development)</th>\n",
       "      <td>1.0</td>\n",
       "      <td>10.0</td>\n",
       "      <td>NaN</td>\n",
       "      <td>10.0</td>\n",
       "      <td>10.0</td>\n",
       "      <td>10.0</td>\n",
       "      <td>10.0</td>\n",
       "      <td>10.0</td>\n",
       "    </tr>\n",
       "    <tr>\n",
       "      <th>Sea Dancers</th>\n",
       "      <td>1.0</td>\n",
       "      <td>10.0</td>\n",
       "      <td>NaN</td>\n",
       "      <td>10.0</td>\n",
       "      <td>10.0</td>\n",
       "      <td>10.0</td>\n",
       "      <td>10.0</td>\n",
       "      <td>10.0</td>\n",
       "    </tr>\n",
       "    <tr>\n",
       "      <th>Life You've Always Wanted, The</th>\n",
       "      <td>1.0</td>\n",
       "      <td>10.0</td>\n",
       "      <td>NaN</td>\n",
       "      <td>10.0</td>\n",
       "      <td>10.0</td>\n",
       "      <td>10.0</td>\n",
       "      <td>10.0</td>\n",
       "      <td>10.0</td>\n",
       "    </tr>\n",
       "    <tr>\n",
       "      <th>Caring for Your Aging Parents: A Planning and Action Guide</th>\n",
       "      <td>1.0</td>\n",
       "      <td>10.0</td>\n",
       "      <td>NaN</td>\n",
       "      <td>10.0</td>\n",
       "      <td>10.0</td>\n",
       "      <td>10.0</td>\n",
       "      <td>10.0</td>\n",
       "      <td>10.0</td>\n",
       "    </tr>\n",
       "    <tr>\n",
       "      <th>Unbreakable Bond (Harlequin Presents, No 904)</th>\n",
       "      <td>1.0</td>\n",
       "      <td>10.0</td>\n",
       "      <td>NaN</td>\n",
       "      <td>10.0</td>\n",
       "      <td>10.0</td>\n",
       "      <td>10.0</td>\n",
       "      <td>10.0</td>\n",
       "      <td>10.0</td>\n",
       "    </tr>\n",
       "  </tbody>\n",
       "</table>\n",
       "</div>"
      ],
      "text/plain": [
       "                                                    count  mean  std   min  \\\n",
       "Book-Title                                                                   \n",
       "Lake Powell: A Different Light                        1.0  10.0  NaN  10.0   \n",
       "Cardcaptor Sakura: Master of the Clow (Cardcapt...    1.0  10.0  NaN  10.0   \n",
       "Cardcaptor Sakura: Master of the Clow, Book 4         1.0  10.0  NaN  10.0   \n",
       "Cardcaptor Sakura: Master of the Clow, Book 5         1.0  10.0  NaN  10.0   \n",
       "Uncle John's All-Purpose Extra-Strength Bathroo...    1.0  10.0  NaN  10.0   \n",
       "Life in a Rapidly Changing World (New Economy S...    1.0  10.0  NaN  10.0   \n",
       "Sea Dancers                                           1.0  10.0  NaN  10.0   \n",
       "Life You've Always Wanted, The                        1.0  10.0  NaN  10.0   \n",
       "Caring for Your Aging Parents: A Planning and A...    1.0  10.0  NaN  10.0   \n",
       "Unbreakable Bond (Harlequin Presents, No 904)         1.0  10.0  NaN  10.0   \n",
       "\n",
       "                                                     25%   50%   75%   max  \n",
       "Book-Title                                                                  \n",
       "Lake Powell: A Different Light                      10.0  10.0  10.0  10.0  \n",
       "Cardcaptor Sakura: Master of the Clow (Cardcapt...  10.0  10.0  10.0  10.0  \n",
       "Cardcaptor Sakura: Master of the Clow, Book 4       10.0  10.0  10.0  10.0  \n",
       "Cardcaptor Sakura: Master of the Clow, Book 5       10.0  10.0  10.0  10.0  \n",
       "Uncle John's All-Purpose Extra-Strength Bathroo...  10.0  10.0  10.0  10.0  \n",
       "Life in a Rapidly Changing World (New Economy S...  10.0  10.0  10.0  10.0  \n",
       "Sea Dancers                                         10.0  10.0  10.0  10.0  \n",
       "Life You've Always Wanted, The                      10.0  10.0  10.0  10.0  \n",
       "Caring for Your Aging Parents: A Planning and A...  10.0  10.0  10.0  10.0  \n",
       "Unbreakable Bond (Harlequin Presents, No 904)       10.0  10.0  10.0  10.0  "
      ]
     },
     "execution_count": 3,
     "metadata": {},
     "output_type": "execute_result"
    }
   ],
   "source": [
    "# visualisation\n",
    "df.groupby('Book-Title')['book_rating'].describe().sort_values(\"mean\", ascending = False).head(10)"
   ]
  },
  {
   "cell_type": "code",
   "execution_count": 4,
   "metadata": {
    "execution": {
     "iopub.execute_input": "2021-01-09T14:42:26.544913Z",
     "iopub.status.busy": "2021-01-09T14:42:26.544164Z",
     "iopub.status.idle": "2021-01-09T14:42:26.654942Z",
     "shell.execute_reply": "2021-01-09T14:42:26.654004Z"
    },
    "papermill": {
     "duration": 0.129532,
     "end_time": "2021-01-09T14:42:26.655056",
     "exception": false,
     "start_time": "2021-01-09T14:42:26.525524",
     "status": "completed"
    },
    "tags": []
   },
   "outputs": [
    {
     "name": "stdout",
     "output_type": "stream",
     "text": [
      "(50079, 10)\n"
     ]
    }
   ],
   "source": [
    "df[\"count\"] = df.groupby('Book-Title')['book_rating'].transform(\"count\")\n",
    "df[\"more_than_one\"] = np.where(df[\"count\"] > 1, 1, 0)\n",
    "df = df[df[\"more_than_one\"] == 1]\n",
    "df = df.drop(\"count\", 1)\n",
    "df = df.drop(\"more_than_one\", axis = 1)\n",
    "print (df.shape)"
   ]
  },
  {
   "cell_type": "code",
   "execution_count": 5,
   "metadata": {
    "execution": {
     "iopub.execute_input": "2021-01-09T14:42:26.682897Z",
     "iopub.status.busy": "2021-01-09T14:42:26.682162Z",
     "iopub.status.idle": "2021-01-09T14:43:06.655844Z",
     "shell.execute_reply": "2021-01-09T14:43:06.656299Z"
    },
    "papermill": {
     "duration": 39.991696,
     "end_time": "2021-01-09T14:43:06.656424",
     "exception": false,
     "start_time": "2021-01-09T14:42:26.664728",
     "status": "completed"
    },
    "tags": []
   },
   "outputs": [
    {
     "data": {
      "text/plain": [
       "<matplotlib.axes._subplots.AxesSubplot at 0x7f6d70563210>"
      ]
     },
     "execution_count": 5,
     "metadata": {},
     "output_type": "execute_result"
    },
    {
     "data": {
      "image/png": "[encoded data removed]",
      "text/plain": [
       "<Figure size 432x288 with 1 Axes>"
      ]
     },
     "metadata": {
      "needs_background": "light"
     },
     "output_type": "display_data"
    }
   ],
   "source": [
    "ratings_df_mean = df.groupby('Book-Title')['book_rating'].describe()['mean']\n",
    "ratings_df_count = df.groupby('Book-Title')['book_rating'].describe()['count']\n",
    "ratings_mean_count_df = pd.concat([ratings_df_count, ratings_df_mean], axis = 1)\n",
    "ratings_mean_count_df['mean'].plot(bins=100, kind='hist', color = 'r') "
   ]
  },
  {
   "cell_type": "code",
   "execution_count": 6,
   "metadata": {
    "execution": {
     "iopub.execute_input": "2021-01-09T14:43:06.682154Z",
     "iopub.status.busy": "2021-01-09T14:43:06.681506Z",
     "iopub.status.idle": "2021-01-09T14:43:06.967889Z",
     "shell.execute_reply": "2021-01-09T14:43:06.968313Z"
    },
    "papermill": {
     "duration": 0.301649,
     "end_time": "2021-01-09T14:43:06.968426",
     "exception": false,
     "start_time": "2021-01-09T14:43:06.666777",
     "status": "completed"
    },
    "tags": []
   },
   "outputs": [
    {
     "data": {
      "text/plain": [
       "<matplotlib.axes._subplots.AxesSubplot at 0x7f6d77bdbdd0>"
      ]
     },
     "execution_count": 6,
     "metadata": {},
     "output_type": "execute_result"
    },
    {
     "data": {
      "image/png": "[encoded data removed]",
      "text/plain": [
       "<Figure size 432x288 with 1 Axes>"
      ]
     },
     "metadata": {
      "needs_background": "light"
     },
     "output_type": "display_data"
    }
   ],
   "source": [
    "ratings_mean_count_df['count'].plot(bins=100, kind='hist', color = 'r') "
   ]
  },
  {
   "cell_type": "code",
   "execution_count": 7,
   "metadata": {
    "execution": {
     "iopub.execute_input": "2021-01-09T14:43:06.998214Z",
     "iopub.status.busy": "2021-01-09T14:43:06.995661Z",
     "iopub.status.idle": "2021-01-09T14:43:07.958006Z",
     "shell.execute_reply": "2021-01-09T14:43:07.957523Z"
    },
    "papermill": {
     "duration": 0.978141,
     "end_time": "2021-01-09T14:43:07.958110",
     "exception": false,
     "start_time": "2021-01-09T14:43:06.979969",
     "status": "completed"
    },
    "tags": []
   },
   "outputs": [],
   "source": [
    "userid_booktitle_matrix = df.pivot_table(index = 'user_id', columns = 'Book-Title', values = 'book_rating')\n"
   ]
  },
  {
   "cell_type": "code",
   "execution_count": 8,
   "metadata": {
    "execution": {
     "iopub.execute_input": "2021-01-09T14:43:07.990118Z",
     "iopub.status.busy": "2021-01-09T14:43:07.989602Z",
     "iopub.status.idle": "2021-01-09T14:43:08.007926Z",
     "shell.execute_reply": "2021-01-09T14:43:08.007522Z"
    },
    "papermill": {
     "duration": 0.038415,
     "end_time": "2021-01-09T14:43:08.008010",
     "exception": false,
     "start_time": "2021-01-09T14:43:07.969595",
     "status": "completed"
    },
    "tags": []
   },
   "outputs": [
    {
     "data": {
      "text/html": [
       "<div>\n",
       "<style scoped>\n",
       "    .dataframe tbody tr th:only-of-type {\n",
       "        vertical-align: middle;\n",
       "    }\n",
       "\n",
       "    .dataframe tbody tr th {\n",
       "        vertical-align: top;\n",
       "    }\n",
       "\n",
       "    .dataframe thead th {\n",
       "        text-align: right;\n",
       "    }\n",
       "</style>\n",
       "<table border=\"1\" class=\"dataframe\">\n",
       "  <thead>\n",
       "    <tr style=\"text-align: right;\">\n",
       "      <th>Book-Title</th>\n",
       "      <th>'Salem's Lot</th>\n",
       "      <th>...AND THE HORSE HE RODE IN ON : THE PEOPLE V. KENNETH STARR</th>\n",
       "      <th>.Hack: //Legend of the Twilight, Vol. 1</th>\n",
       "      <th>.Hack: //Legend of the Twilight, Vol. 2</th>\n",
       "      <th>01-01-00: A Novel of the Millennium</th>\n",
       "      <th>01-01-00: The Novel of the Millennium</th>\n",
       "      <th>1,003 Great Things About Kids</th>\n",
       "      <th>1,401 More Things That P*Ss Me Off</th>\n",
       "      <th>10 Secrets for Success and Inner Peace</th>\n",
       "      <th>100 Best-Loved Poems (Dover Thrift Editions)</th>\n",
       "      <th>...</th>\n",
       "      <th>\\O\\\" Is for Outlaw\"</th>\n",
       "      <th>\\Surely You're Joking, Mr. Feynman!\\\": Adventures of a Curious Character\"</th>\n",
       "      <th>\\The Happy Prince\\\" and Other Stories (Penguin Popular Classics)\"</th>\n",
       "      <th>e</th>\n",
       "      <th>eXistenZ: A Novelization</th>\n",
       "      <th>iI Paradiso Degli Orchi</th>\n",
       "      <th>stardust</th>\n",
       "      <th>the Heiress Bride  (sister brides)</th>\n",
       "      <th>why I'm like this : True Stories</th>\n",
       "      <th>Â¿QuÃ© me quieres, amor?</th>\n",
       "    </tr>\n",
       "    <tr>\n",
       "      <th>user_id</th>\n",
       "      <th></th>\n",
       "      <th></th>\n",
       "      <th></th>\n",
       "      <th></th>\n",
       "      <th></th>\n",
       "      <th></th>\n",
       "      <th></th>\n",
       "      <th></th>\n",
       "      <th></th>\n",
       "      <th></th>\n",
       "      <th></th>\n",
       "      <th></th>\n",
       "      <th></th>\n",
       "      <th></th>\n",
       "      <th></th>\n",
       "      <th></th>\n",
       "      <th></th>\n",
       "      <th></th>\n",
       "      <th></th>\n",
       "      <th></th>\n",
       "      <th></th>\n",
       "    </tr>\n",
       "  </thead>\n",
       "  <tbody>\n",
       "    <tr>\n",
       "      <th>11087</th>\n",
       "      <td>NaN</td>\n",
       "      <td>NaN</td>\n",
       "      <td>NaN</td>\n",
       "      <td>NaN</td>\n",
       "      <td>NaN</td>\n",
       "      <td>NaN</td>\n",
       "      <td>NaN</td>\n",
       "      <td>NaN</td>\n",
       "      <td>NaN</td>\n",
       "      <td>NaN</td>\n",
       "      <td>...</td>\n",
       "      <td>NaN</td>\n",
       "      <td>NaN</td>\n",
       "      <td>NaN</td>\n",
       "      <td>NaN</td>\n",
       "      <td>NaN</td>\n",
       "      <td>NaN</td>\n",
       "      <td>NaN</td>\n",
       "      <td>NaN</td>\n",
       "      <td>NaN</td>\n",
       "      <td>NaN</td>\n",
       "    </tr>\n",
       "  </tbody>\n",
       "</table>\n",
       "<p>1 rows × 12195 columns</p>\n",
       "</div>"
      ],
      "text/plain": [
       "Book-Title  'Salem's Lot  \\\n",
       "user_id                    \n",
       "11087                NaN   \n",
       "\n",
       "Book-Title  ...AND THE HORSE HE RODE IN ON : THE PEOPLE V. KENNETH STARR  \\\n",
       "user_id                                                                    \n",
       "11087                                                     NaN              \n",
       "\n",
       "Book-Title  .Hack: //Legend of the Twilight, Vol. 1  \\\n",
       "user_id                                               \n",
       "11087                                           NaN   \n",
       "\n",
       "Book-Title  .Hack: //Legend of the Twilight, Vol. 2  \\\n",
       "user_id                                               \n",
       "11087                                           NaN   \n",
       "\n",
       "Book-Title  01-01-00: A Novel of the Millennium  \\\n",
       "user_id                                           \n",
       "11087                                       NaN   \n",
       "\n",
       "Book-Title  01-01-00: The Novel of the Millennium  \\\n",
       "user_id                                             \n",
       "11087                                         NaN   \n",
       "\n",
       "Book-Title  1,003 Great Things About Kids  1,401 More Things That P*Ss Me Off  \\\n",
       "user_id                                                                         \n",
       "11087                                 NaN                                 NaN   \n",
       "\n",
       "Book-Title  10 Secrets for Success and Inner Peace  \\\n",
       "user_id                                              \n",
       "11087                                          NaN   \n",
       "\n",
       "Book-Title  100 Best-Loved Poems (Dover Thrift Editions)  ...  \\\n",
       "user_id                                                   ...   \n",
       "11087                                                NaN  ...   \n",
       "\n",
       "Book-Title  \\O\\\" Is for Outlaw\"  \\\n",
       "user_id                           \n",
       "11087                       NaN   \n",
       "\n",
       "Book-Title  \\Surely You're Joking, Mr. Feynman!\\\": Adventures of a Curious Character\"  \\\n",
       "user_id                                                                                 \n",
       "11087                                                     NaN                           \n",
       "\n",
       "Book-Title  \\The Happy Prince\\\" and Other Stories (Penguin Popular Classics)\"  \\\n",
       "user_id                                                                         \n",
       "11087                                                     NaN                   \n",
       "\n",
       "Book-Title   e  eXistenZ: A Novelization  iI Paradiso Degli Orchi  stardust  \\\n",
       "user_id                                                                       \n",
       "11087      NaN                       NaN                      NaN       NaN   \n",
       "\n",
       "Book-Title  the Heiress Bride  (sister brides)  \\\n",
       "user_id                                          \n",
       "11087                                      NaN   \n",
       "\n",
       "Book-Title  why I'm like this : True Stories  Â¿QuÃ© me quieres, amor?  \n",
       "user_id                                                                 \n",
       "11087                                    NaN                       NaN  \n",
       "\n",
       "[1 rows x 12195 columns]"
      ]
     },
     "execution_count": 8,
     "metadata": {},
     "output_type": "execute_result"
    }
   ],
   "source": [
    "userid_booktitle_matrix.sample()"
   ]
  },
  {
   "cell_type": "code",
   "execution_count": 9,
   "metadata": {
    "execution": {
     "iopub.execute_input": "2021-01-09T14:43:08.038706Z",
     "iopub.status.busy": "2021-01-09T14:43:08.037936Z",
     "iopub.status.idle": "2021-01-09T14:43:11.383308Z",
     "shell.execute_reply": "2021-01-09T14:43:11.382545Z"
    },
    "papermill": {
     "duration": 3.363475,
     "end_time": "2021-01-09T14:43:11.383410",
     "exception": false,
     "start_time": "2021-01-09T14:43:08.019935",
     "status": "completed"
    },
    "tags": []
   },
   "outputs": [
    {
     "name": "stderr",
     "output_type": "stream",
     "text": [
      "/opt/conda/lib/python3.7/site-packages/numpy/lib/function_base.py:2526: RuntimeWarning: Degrees of freedom <= 0 for slice\n",
      "  c = cov(x, y, rowvar)\n",
      "/opt/conda/lib/python3.7/site-packages/numpy/lib/function_base.py:2455: RuntimeWarning: divide by zero encountered in true_divide\n",
      "  c *= np.true_divide(1, fact)\n"
     ]
    },
    {
     "data": {
      "text/html": [
       "<div>\n",
       "<style scoped>\n",
       "    .dataframe tbody tr th:only-of-type {\n",
       "        vertical-align: middle;\n",
       "    }\n",
       "\n",
       "    .dataframe tbody tr th {\n",
       "        vertical-align: top;\n",
       "    }\n",
       "\n",
       "    .dataframe thead th {\n",
       "        text-align: right;\n",
       "    }\n",
       "</style>\n",
       "<table border=\"1\" class=\"dataframe\">\n",
       "  <thead>\n",
       "    <tr style=\"text-align: right;\">\n",
       "      <th></th>\n",
       "      <th>Correlation</th>\n",
       "      <th>count</th>\n",
       "    </tr>\n",
       "    <tr>\n",
       "      <th>Book-Title</th>\n",
       "      <th></th>\n",
       "      <th></th>\n",
       "    </tr>\n",
       "  </thead>\n",
       "  <tbody>\n",
       "    <tr>\n",
       "      <th>Neanderthal</th>\n",
       "      <td>1.0</td>\n",
       "      <td>6.0</td>\n",
       "    </tr>\n",
       "    <tr>\n",
       "      <th>The Joy Luck Club</th>\n",
       "      <td>1.0</td>\n",
       "      <td>50.0</td>\n",
       "    </tr>\n",
       "    <tr>\n",
       "      <th>Great Dialogues of Plato</th>\n",
       "      <td>1.0</td>\n",
       "      <td>3.0</td>\n",
       "    </tr>\n",
       "    <tr>\n",
       "      <th>How to Be Good</th>\n",
       "      <td>1.0</td>\n",
       "      <td>22.0</td>\n",
       "    </tr>\n",
       "    <tr>\n",
       "      <th>A Bend in the Road</th>\n",
       "      <td>1.0</td>\n",
       "      <td>33.0</td>\n",
       "    </tr>\n",
       "  </tbody>\n",
       "</table>\n",
       "</div>"
      ],
      "text/plain": [
       "                          Correlation  count\n",
       "Book-Title                                  \n",
       "Neanderthal                       1.0    6.0\n",
       "The Joy Luck Club                 1.0   50.0\n",
       "Great Dialogues of Plato          1.0    3.0\n",
       "How to Be Good                    1.0   22.0\n",
       "A Bend in the Road                1.0   33.0"
      ]
     },
     "execution_count": 9,
     "metadata": {},
     "output_type": "execute_result"
    }
   ],
   "source": [
    "selected = \"stardust\"\n",
    "\n",
    "selection = userid_booktitle_matrix[selected]\n",
    "\n",
    "# Let's calculate the correlations\n",
    "selection_correlations = pd.DataFrame(userid_booktitle_matrix.corrwith(selection), columns=['Correlation'])\n",
    "selection_correlations = selection_correlations.join(ratings_mean_count_df['count'])\n",
    "                                      \n",
    "selection_correlations.dropna(inplace=True)\n",
    "# Let's sort the correlations vector\n",
    "                                      \n",
    "selection_correlations[selection_correlations['count']>0].sort_values('Correlation',ascending=False).head()"
   ]
  },
  {
   "cell_type": "code",
   "execution_count": 10,
   "metadata": {
    "execution": {
     "iopub.execute_input": "2021-01-09T14:43:11.413869Z",
     "iopub.status.busy": "2021-01-09T14:43:11.413038Z",
     "iopub.status.idle": "2021-01-09T14:49:12.295706Z",
     "shell.execute_reply": "2021-01-09T14:49:12.294880Z"
    },
    "papermill": {
     "duration": 360.899385,
     "end_time": "2021-01-09T14:49:12.295816",
     "exception": false,
     "start_time": "2021-01-09T14:43:11.396431",
     "status": "completed"
    },
    "tags": []
   },
   "outputs": [],
   "source": [
    "\n",
    "\n",
    "bookcorrelatons = userid_booktitle_matrix.corr(method = \"pearson\" , min_periods = 2)\n"
   ]
  },
  {
   "cell_type": "code",
   "execution_count": 11,
   "metadata": {
    "execution": {
     "iopub.execute_input": "2021-01-09T14:49:12.336127Z",
     "iopub.status.busy": "2021-01-09T14:49:12.335306Z",
     "iopub.status.idle": "2021-01-09T14:49:12.368680Z",
     "shell.execute_reply": "2021-01-09T14:49:12.368045Z"
    },
    "papermill": {
     "duration": 0.057999,
     "end_time": "2021-01-09T14:49:12.368783",
     "exception": false,
     "start_time": "2021-01-09T14:49:12.310784",
     "status": "completed"
    },
    "tags": []
   },
   "outputs": [
    {
     "name": "stdout",
     "output_type": "stream",
     "text": [
      "stardust                                        1.0\n",
      "Masquerade                                      1.0\n",
      "Four Seasons                                    1.0\n",
      "Good Omens                                      1.0\n",
      "Great Dialogues of Plato                        1.0\n",
      "Hannibal                                        1.0\n",
      "House of Sand and Fog                           1.0\n",
      "How to Be Good                                  1.0\n",
      "Ishmael: An Adventure of the Mind and Spirit    1.0\n",
      "Le Divorce (William Abrahams Book)              1.0\n",
      "dtype: float64\n"
     ]
    },
    {
     "name": "stderr",
     "output_type": "stream",
     "text": [
      "/opt/conda/lib/python3.7/site-packages/ipykernel_launcher.py:4: DeprecationWarning: The default dtype for empty Series will be 'object' instead of 'float64' in a future version. Specify a dtype explicitly to silence this warning.\n",
      "  after removing the cwd from sys.path.\n"
     ]
    }
   ],
   "source": [
    "data = {'Book-Title': [\"A Bend in the Road\", \"stardust\" ], 'book_rating': [5, 1]}\n",
    "myRatings = pd.DataFrame.from_dict(data)\n",
    "\n",
    "similar_book_list = pd.Series()\n",
    "for i in range(0, 2):\n",
    "    similar_book = bookcorrelatons[myRatings['Book-Title'][i]].dropna() # Get same books with same ratings\n",
    "    similar_book = similar_book.map(lambda x: x * myRatings['book_rating'][i]) # Scale the similarity by your given ratings\n",
    "    similar_books_list = similar_book_list.append(similar_book)\n",
    "similar_books_list.sort_values(inplace = True, ascending = False)\n",
    "print (similar_books_list.head(10))"
   ]
  },
  {
   "cell_type": "code",
   "execution_count": null,
   "metadata": {
    "papermill": {
     "duration": 0.013679,
     "end_time": "2021-01-09T14:49:12.396449",
     "exception": false,
     "start_time": "2021-01-09T14:49:12.382770",
     "status": "completed"
    },
    "tags": []
   },
   "outputs": [],
   "source": []
  }
 ],
 "metadata": {
  "kernelspec": {
   "display_name": "Python 3",
   "language": "python",
   "name": "python3"
  },
  "language_info": {
   "codemirror_mode": {
    "name": "ipython",
    "version": 3
   },
   "file_extension": ".py",
   "mimetype": "text/x-python",
   "name": "python",
   "nbconvert_exporter": "python",
   "pygments_lexer": "ipython3",
   "version": "3.7.6"
  },
  "papermill": {
   "duration": 480.706055,
   "end_time": "2021-01-09T14:49:12.515917",
   "environment_variables": {},
   "exception": null,
   "input_path": "__notebook__.ipynb",
   "output_path": "__notebook__.ipynb",
   "parameters": {},
   "start_time": "2021-01-09T14:41:11.809862",
   "version": "2.1.0"
  }
 },
 "nbformat": 4,
 "nbformat_minor": 4
}
